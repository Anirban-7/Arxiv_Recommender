{
 "cells": [
  {
   "cell_type": "code",
   "execution_count": 11,
   "metadata": {},
   "outputs": [],
   "source": [
    "import numpy as np\n",
    "import pandas as pd"
   ]
  },
  {
   "cell_type": "code",
   "execution_count": 52,
   "metadata": {},
   "outputs": [
    {
     "data": {
      "text/html": [
       "<div>\n",
       "<style scoped>\n",
       "    .dataframe tbody tr th:only-of-type {\n",
       "        vertical-align: middle;\n",
       "    }\n",
       "\n",
       "    .dataframe tbody tr th {\n",
       "        vertical-align: top;\n",
       "    }\n",
       "\n",
       "    .dataframe thead th {\n",
       "        text-align: right;\n",
       "    }\n",
       "</style>\n",
       "<table border=\"1\" class=\"dataframe\">\n",
       "  <thead>\n",
       "    <tr style=\"text-align: right;\">\n",
       "      <th></th>\n",
       "      <th>id</th>\n",
       "      <th>title</th>\n",
       "      <th>comments</th>\n",
       "      <th>categories</th>\n",
       "      <th>abstract</th>\n",
       "      <th>update_date</th>\n",
       "      <th>authors_parsed</th>\n",
       "      <th>new_cat</th>\n",
       "    </tr>\n",
       "  </thead>\n",
       "  <tbody>\n",
       "    <tr>\n",
       "      <th>0</th>\n",
       "      <td>2305.05127</td>\n",
       "      <td>Accelerated gradient descent method for functi...</td>\n",
       "      <td>31 pages</td>\n",
       "      <td>math.OC cs.NA math.NA</td>\n",
       "      <td>We consider problems of minimizing functiona...</td>\n",
       "      <td>2023-05-19</td>\n",
       "      <td>[['Tanaka', \"Ken'ichiro\", '']]</td>\n",
       "      <td>['math.OC', 'cs.NA', 'math.NA']</td>\n",
       "    </tr>\n",
       "    <tr>\n",
       "      <th>1</th>\n",
       "      <td>2305.10888</td>\n",
       "      <td>Universal Proof Theory, TACL 2022 Lecture Notes</td>\n",
       "      <td>NaN</td>\n",
       "      <td>math.LO cs.LO</td>\n",
       "      <td>The subject of these short lecture notes is ...</td>\n",
       "      <td>2023-05-19</td>\n",
       "      <td>[['Iemhoff', 'Rosalie', ''], ['Jalali', 'Rahel...</td>\n",
       "      <td>['math.LO', 'cs.LO']</td>\n",
       "    </tr>\n",
       "    <tr>\n",
       "      <th>2</th>\n",
       "      <td>2305.10849</td>\n",
       "      <td>Extreme ATM skew in a local volatility model w...</td>\n",
       "      <td>NaN</td>\n",
       "      <td>q-fin.MF math.PR</td>\n",
       "      <td>This paper concerns a local volatility model...</td>\n",
       "      <td>2023-05-19</td>\n",
       "      <td>[['Gairat', 'Alexander', ''], ['Shcherbakov', ...</td>\n",
       "      <td>['q-fin.MF', 'math.PR']</td>\n",
       "    </tr>\n",
       "    <tr>\n",
       "      <th>3</th>\n",
       "      <td>2305.10851</td>\n",
       "      <td>Variational Bihamiltonian Cohomologies and Int...</td>\n",
       "      <td>NaN</td>\n",
       "      <td>nlin.SI math-ph math.MP</td>\n",
       "      <td>For an integrable hierarchy which possesses ...</td>\n",
       "      <td>2023-05-19</td>\n",
       "      <td>[['Liu', 'Si-Qi', ''], ['Wang', 'Zhe', ''], ['...</td>\n",
       "      <td>['nlin.SI', 'math-ph', 'math.MP']</td>\n",
       "    </tr>\n",
       "    <tr>\n",
       "      <th>4</th>\n",
       "      <td>2305.10852</td>\n",
       "      <td>Q-SHED: Distributed Optimization at the Edge v...</td>\n",
       "      <td>NaN</td>\n",
       "      <td>eess.SY cs.LG cs.MA cs.SY math.OC</td>\n",
       "      <td>Edge networks call for communication efficie...</td>\n",
       "      <td>2023-05-19</td>\n",
       "      <td>[['Fabbro', 'Nicolò Dal', ''], ['Rossi', 'Mich...</td>\n",
       "      <td>['eess.SY', 'cs.LG', 'cs.MA', 'cs.SY', 'math.OC']</td>\n",
       "    </tr>\n",
       "  </tbody>\n",
       "</table>\n",
       "</div>"
      ],
      "text/plain": [
       "           id                                              title  comments  \\\n",
       "0  2305.05127  Accelerated gradient descent method for functi...  31 pages   \n",
       "1  2305.10888    Universal Proof Theory, TACL 2022 Lecture Notes       NaN   \n",
       "2  2305.10849  Extreme ATM skew in a local volatility model w...       NaN   \n",
       "3  2305.10851  Variational Bihamiltonian Cohomologies and Int...       NaN   \n",
       "4  2305.10852  Q-SHED: Distributed Optimization at the Edge v...       NaN   \n",
       "\n",
       "                          categories  \\\n",
       "0              math.OC cs.NA math.NA   \n",
       "1                      math.LO cs.LO   \n",
       "2                   q-fin.MF math.PR   \n",
       "3            nlin.SI math-ph math.MP   \n",
       "4  eess.SY cs.LG cs.MA cs.SY math.OC   \n",
       "\n",
       "                                            abstract update_date  \\\n",
       "0    We consider problems of minimizing functiona...  2023-05-19   \n",
       "1    The subject of these short lecture notes is ...  2023-05-19   \n",
       "2    This paper concerns a local volatility model...  2023-05-19   \n",
       "3    For an integrable hierarchy which possesses ...  2023-05-19   \n",
       "4    Edge networks call for communication efficie...  2023-05-19   \n",
       "\n",
       "                                      authors_parsed  \\\n",
       "0                     [['Tanaka', \"Ken'ichiro\", '']]   \n",
       "1  [['Iemhoff', 'Rosalie', ''], ['Jalali', 'Rahel...   \n",
       "2  [['Gairat', 'Alexander', ''], ['Shcherbakov', ...   \n",
       "3  [['Liu', 'Si-Qi', ''], ['Wang', 'Zhe', ''], ['...   \n",
       "4  [['Fabbro', 'Nicolò Dal', ''], ['Rossi', 'Mich...   \n",
       "\n",
       "                                             new_cat  \n",
       "0                    ['math.OC', 'cs.NA', 'math.NA']  \n",
       "1                               ['math.LO', 'cs.LO']  \n",
       "2                            ['q-fin.MF', 'math.PR']  \n",
       "3                  ['nlin.SI', 'math-ph', 'math.MP']  \n",
       "4  ['eess.SY', 'cs.LG', 'cs.MA', 'cs.SY', 'math.OC']  "
      ]
     },
     "execution_count": 52,
     "metadata": {},
     "output_type": "execute_result"
    }
   ],
   "source": [
    "df = pd.read_csv('data/recent_20k.csv', parse_dates=['update_date'])\n",
    "df.head()"
   ]
  },
  {
   "cell_type": "code",
   "execution_count": 53,
   "metadata": {},
   "outputs": [
    {
     "data": {
      "text/plain": [
       "(20000, 8)"
      ]
     },
     "execution_count": 53,
     "metadata": {},
     "output_type": "execute_result"
    }
   ],
   "source": [
    "df.shape"
   ]
  },
  {
   "cell_type": "code",
   "execution_count": 14,
   "metadata": {},
   "outputs": [],
   "source": [
    "from data_utils import clean_data"
   ]
  },
  {
   "cell_type": "code",
   "execution_count": 54,
   "metadata": {},
   "outputs": [],
   "source": [
    "df['clean_abstract'] = df['abstract'].apply(clean_data)"
   ]
  },
  {
   "cell_type": "code",
   "execution_count": 6,
   "metadata": {},
   "outputs": [
    {
     "data": {
      "text/plain": [
       "0    we consider problems of minimizing functionals...\n",
       "1    the subject of these short lecture notes is a ...\n",
       "2    this paper concerns a local volatility model i...\n",
       "3    for an integrable hierarchy which possesses a ...\n",
       "4    edge networks call for communication efficient...\n",
       "Name: clean_abstract, dtype: object"
      ]
     },
     "execution_count": 6,
     "metadata": {},
     "output_type": "execute_result"
    }
   ],
   "source": [
    "df['clean_abstract'].head()"
   ]
  },
  {
   "cell_type": "code",
   "execution_count": 7,
   "metadata": {},
   "outputs": [],
   "source": [
    "from sentence_transformers import SentenceTransformer"
   ]
  },
  {
   "cell_type": "code",
   "execution_count": 55,
   "metadata": {},
   "outputs": [
    {
     "data": {
      "text/plain": [
       "'we consider problems of minimizing functionals of probability measures on the euclidean space to propose an accelerated gradient descent algorithm for such problems we consider gradient flow of transport maps that give push forward measures of an initial measure then we propose a deterministic accelerated algorithm by extending nesterovs acceleration technique with momentum this algorithm do not based on the wasserstein geometry furthermore to estimate the convergence rate of the accelerated algorithm we introduce new convexity and smoothness for based on transport maps as a result we can show that the accelerated algorithm converges faster than a normal gradient descent algorithm numerical experiments support this theoretical result'"
      ]
     },
     "execution_count": 55,
     "metadata": {},
     "output_type": "execute_result"
    }
   ],
   "source": [
    "docs = df['clean_abstract'].to_list()[:1000]\n",
    "docs[0]"
   ]
  },
  {
   "cell_type": "code",
   "execution_count": 18,
   "metadata": {},
   "outputs": [],
   "source": [
    "sentence_model = SentenceTransformer('all-MiniLM-L6-v2')\n",
    "embeddings = sentence_model.encode(docs)"
   ]
  },
  {
   "attachments": {},
   "cell_type": "markdown",
   "metadata": {},
   "source": [
    "Wow, that only took 20 seconds."
   ]
  },
  {
   "cell_type": "code",
   "execution_count": 20,
   "metadata": {},
   "outputs": [
    {
     "data": {
      "text/plain": [
       "(1000, 384)"
      ]
     },
     "execution_count": 20,
     "metadata": {},
     "output_type": "execute_result"
    }
   ],
   "source": [
    "embeddings.shape"
   ]
  },
  {
   "cell_type": "code",
   "execution_count": 24,
   "metadata": {},
   "outputs": [],
   "source": [
    "# trying with a larger input\n",
    "docs_2k = df['clean_abstract'].to_list()[:2000]"
   ]
  },
  {
   "cell_type": "code",
   "execution_count": 25,
   "metadata": {},
   "outputs": [],
   "source": [
    "embeddings_2k = sentence_model.encode(docs_2k)"
   ]
  },
  {
   "cell_type": "code",
   "execution_count": 27,
   "metadata": {},
   "outputs": [],
   "source": [
    "# even larger\n",
    "docs_5k = df['clean_abstract'].to_list()[:5000]\n",
    "embeddings_5k = sentence_model.encode(docs_5k)"
   ]
  },
  {
   "cell_type": "code",
   "execution_count": 30,
   "metadata": {},
   "outputs": [
    {
     "data": {
      "text/plain": [
       "(5000, 384)"
      ]
     },
     "execution_count": 30,
     "metadata": {},
     "output_type": "execute_result"
    }
   ],
   "source": [
    "embeddings_5k.shape"
   ]
  },
  {
   "cell_type": "code",
   "execution_count": 57,
   "metadata": {},
   "outputs": [],
   "source": [
    "# okay let's do chunks of 5k at a time\n",
    "\n",
    "embeddings = [0 for _ in range(4)]\n",
    "\n",
    "for i in range(4):\n",
    "    docs = df['clean_abstract'].to_list()[5000*i : 5000*(i+1)]\n",
    "    embeddings[i] = sentence_model.encode(docs)\n"
   ]
  },
  {
   "cell_type": "code",
   "execution_count": 58,
   "metadata": {},
   "outputs": [
    {
     "data": {
      "text/plain": [
       "array([[ 0.00866919, -0.09152839,  0.00381073, ...,  0.01778578,\n",
       "         0.01220374, -0.05651127],\n",
       "       [-0.08063693,  0.04923205, -0.01266916, ...,  0.06128307,\n",
       "         0.086666  ,  0.02369638],\n",
       "       [-0.05104776,  0.05254225,  0.04349861, ..., -0.04011452,\n",
       "        -0.03792777,  0.09876525],\n",
       "       ...,\n",
       "       [-0.04170634,  0.04043854, -0.02808688, ...,  0.05767613,\n",
       "        -0.01312666,  0.03856558],\n",
       "       [-0.06862701, -0.01309697, -0.01534034, ..., -0.03284089,\n",
       "         0.03243253, -0.02368657],\n",
       "       [-0.0557962 , -0.02677958, -0.02940826, ...,  0.0046546 ,\n",
       "        -0.10675794,  0.02323357]], dtype=float32)"
      ]
     },
     "execution_count": 58,
     "metadata": {},
     "output_type": "execute_result"
    }
   ],
   "source": [
    "embeddings[0]"
   ]
  },
  {
   "cell_type": "code",
   "execution_count": 60,
   "metadata": {},
   "outputs": [
    {
     "name": "stdout",
     "output_type": "stream",
     "text": [
      "(5000, 384)\n",
      "(5000, 384)\n",
      "(5000, 384)\n",
      "(5000, 384)\n"
     ]
    }
   ],
   "source": [
    "for i in range(4):\n",
    "    print(embeddings[i].shape)"
   ]
  },
  {
   "cell_type": "code",
   "execution_count": 61,
   "metadata": {},
   "outputs": [],
   "source": [
    "all_embed = np.concatenate(embeddings, axis=0)"
   ]
  },
  {
   "cell_type": "code",
   "execution_count": 62,
   "metadata": {},
   "outputs": [
    {
     "data": {
      "text/plain": [
       "(20000, 384)"
      ]
     },
     "execution_count": 62,
     "metadata": {},
     "output_type": "execute_result"
    }
   ],
   "source": [
    "all_embed.shape"
   ]
  },
  {
   "cell_type": "code",
   "execution_count": 63,
   "metadata": {},
   "outputs": [
    {
     "data": {
      "text/html": [
       "<div>\n",
       "<style scoped>\n",
       "    .dataframe tbody tr th:only-of-type {\n",
       "        vertical-align: middle;\n",
       "    }\n",
       "\n",
       "    .dataframe tbody tr th {\n",
       "        vertical-align: top;\n",
       "    }\n",
       "\n",
       "    .dataframe thead th {\n",
       "        text-align: right;\n",
       "    }\n",
       "</style>\n",
       "<table border=\"1\" class=\"dataframe\">\n",
       "  <thead>\n",
       "    <tr style=\"text-align: right;\">\n",
       "      <th></th>\n",
       "      <th>0</th>\n",
       "      <th>1</th>\n",
       "      <th>2</th>\n",
       "      <th>3</th>\n",
       "      <th>4</th>\n",
       "      <th>5</th>\n",
       "      <th>6</th>\n",
       "      <th>7</th>\n",
       "      <th>8</th>\n",
       "      <th>9</th>\n",
       "      <th>...</th>\n",
       "      <th>374</th>\n",
       "      <th>375</th>\n",
       "      <th>376</th>\n",
       "      <th>377</th>\n",
       "      <th>378</th>\n",
       "      <th>379</th>\n",
       "      <th>380</th>\n",
       "      <th>381</th>\n",
       "      <th>382</th>\n",
       "      <th>383</th>\n",
       "    </tr>\n",
       "  </thead>\n",
       "  <tbody>\n",
       "    <tr>\n",
       "      <th>0</th>\n",
       "      <td>0.008669</td>\n",
       "      <td>-0.091528</td>\n",
       "      <td>0.003811</td>\n",
       "      <td>-0.022832</td>\n",
       "      <td>-0.002555</td>\n",
       "      <td>0.010055</td>\n",
       "      <td>0.044759</td>\n",
       "      <td>-0.046527</td>\n",
       "      <td>0.011216</td>\n",
       "      <td>-0.018647</td>\n",
       "      <td>...</td>\n",
       "      <td>0.024168</td>\n",
       "      <td>-0.024272</td>\n",
       "      <td>-0.017991</td>\n",
       "      <td>-0.092372</td>\n",
       "      <td>-0.052760</td>\n",
       "      <td>0.053505</td>\n",
       "      <td>0.023691</td>\n",
       "      <td>0.017786</td>\n",
       "      <td>0.012204</td>\n",
       "      <td>-0.056511</td>\n",
       "    </tr>\n",
       "    <tr>\n",
       "      <th>1</th>\n",
       "      <td>-0.080637</td>\n",
       "      <td>0.049232</td>\n",
       "      <td>-0.012669</td>\n",
       "      <td>-0.040947</td>\n",
       "      <td>0.078689</td>\n",
       "      <td>0.017134</td>\n",
       "      <td>-0.001301</td>\n",
       "      <td>0.077127</td>\n",
       "      <td>0.053780</td>\n",
       "      <td>0.029866</td>\n",
       "      <td>...</td>\n",
       "      <td>-0.001030</td>\n",
       "      <td>0.041122</td>\n",
       "      <td>0.020294</td>\n",
       "      <td>-0.022761</td>\n",
       "      <td>0.003198</td>\n",
       "      <td>-0.020421</td>\n",
       "      <td>0.102561</td>\n",
       "      <td>0.061283</td>\n",
       "      <td>0.086666</td>\n",
       "      <td>0.023696</td>\n",
       "    </tr>\n",
       "    <tr>\n",
       "      <th>2</th>\n",
       "      <td>-0.051048</td>\n",
       "      <td>0.052542</td>\n",
       "      <td>0.043499</td>\n",
       "      <td>-0.052117</td>\n",
       "      <td>0.004466</td>\n",
       "      <td>-0.008125</td>\n",
       "      <td>0.021389</td>\n",
       "      <td>0.011464</td>\n",
       "      <td>0.106068</td>\n",
       "      <td>-0.047217</td>\n",
       "      <td>...</td>\n",
       "      <td>-0.038333</td>\n",
       "      <td>0.016619</td>\n",
       "      <td>0.077101</td>\n",
       "      <td>-0.044441</td>\n",
       "      <td>-0.057435</td>\n",
       "      <td>-0.038067</td>\n",
       "      <td>0.044717</td>\n",
       "      <td>-0.040115</td>\n",
       "      <td>-0.037928</td>\n",
       "      <td>0.098765</td>\n",
       "    </tr>\n",
       "    <tr>\n",
       "      <th>3</th>\n",
       "      <td>-0.053897</td>\n",
       "      <td>-0.045639</td>\n",
       "      <td>0.111787</td>\n",
       "      <td>-0.063160</td>\n",
       "      <td>0.055485</td>\n",
       "      <td>0.017214</td>\n",
       "      <td>-0.009675</td>\n",
       "      <td>-0.033952</td>\n",
       "      <td>-0.024027</td>\n",
       "      <td>-0.106168</td>\n",
       "      <td>...</td>\n",
       "      <td>-0.012136</td>\n",
       "      <td>0.034463</td>\n",
       "      <td>0.025183</td>\n",
       "      <td>-0.024089</td>\n",
       "      <td>-0.011249</td>\n",
       "      <td>-0.018870</td>\n",
       "      <td>0.056149</td>\n",
       "      <td>0.037615</td>\n",
       "      <td>0.074076</td>\n",
       "      <td>-0.004829</td>\n",
       "    </tr>\n",
       "    <tr>\n",
       "      <th>4</th>\n",
       "      <td>-0.006157</td>\n",
       "      <td>0.013721</td>\n",
       "      <td>-0.042213</td>\n",
       "      <td>-0.004302</td>\n",
       "      <td>0.011132</td>\n",
       "      <td>-0.053676</td>\n",
       "      <td>-0.024461</td>\n",
       "      <td>-0.084382</td>\n",
       "      <td>-0.049810</td>\n",
       "      <td>0.019546</td>\n",
       "      <td>...</td>\n",
       "      <td>0.040782</td>\n",
       "      <td>-0.012627</td>\n",
       "      <td>0.022656</td>\n",
       "      <td>-0.079626</td>\n",
       "      <td>0.042765</td>\n",
       "      <td>0.084743</td>\n",
       "      <td>-0.090065</td>\n",
       "      <td>-0.017706</td>\n",
       "      <td>-0.082271</td>\n",
       "      <td>0.001171</td>\n",
       "    </tr>\n",
       "  </tbody>\n",
       "</table>\n",
       "<p>5 rows × 384 columns</p>\n",
       "</div>"
      ],
      "text/plain": [
       "        0         1         2         3         4         5         6    \\\n",
       "0  0.008669 -0.091528  0.003811 -0.022832 -0.002555  0.010055  0.044759   \n",
       "1 -0.080637  0.049232 -0.012669 -0.040947  0.078689  0.017134 -0.001301   \n",
       "2 -0.051048  0.052542  0.043499 -0.052117  0.004466 -0.008125  0.021389   \n",
       "3 -0.053897 -0.045639  0.111787 -0.063160  0.055485  0.017214 -0.009675   \n",
       "4 -0.006157  0.013721 -0.042213 -0.004302  0.011132 -0.053676 -0.024461   \n",
       "\n",
       "        7         8         9    ...       374       375       376       377  \\\n",
       "0 -0.046527  0.011216 -0.018647  ...  0.024168 -0.024272 -0.017991 -0.092372   \n",
       "1  0.077127  0.053780  0.029866  ... -0.001030  0.041122  0.020294 -0.022761   \n",
       "2  0.011464  0.106068 -0.047217  ... -0.038333  0.016619  0.077101 -0.044441   \n",
       "3 -0.033952 -0.024027 -0.106168  ... -0.012136  0.034463  0.025183 -0.024089   \n",
       "4 -0.084382 -0.049810  0.019546  ...  0.040782 -0.012627  0.022656 -0.079626   \n",
       "\n",
       "        378       379       380       381       382       383  \n",
       "0 -0.052760  0.053505  0.023691  0.017786  0.012204 -0.056511  \n",
       "1  0.003198 -0.020421  0.102561  0.061283  0.086666  0.023696  \n",
       "2 -0.057435 -0.038067  0.044717 -0.040115 -0.037928  0.098765  \n",
       "3 -0.011249 -0.018870  0.056149  0.037615  0.074076 -0.004829  \n",
       "4  0.042765  0.084743 -0.090065 -0.017706 -0.082271  0.001171  \n",
       "\n",
       "[5 rows x 384 columns]"
      ]
     },
     "execution_count": 63,
     "metadata": {},
     "output_type": "execute_result"
    }
   ],
   "source": [
    "embed_df = pd.DataFrame(all_embed)\n",
    "embed_df.head()"
   ]
  },
  {
   "cell_type": "code",
   "execution_count": 64,
   "metadata": {},
   "outputs": [],
   "source": [
    "embed_df.to_csv('embed_2k_all-MiniLM-L6-v2.csv')"
   ]
  },
  {
   "cell_type": "code",
   "execution_count": null,
   "metadata": {},
   "outputs": [],
   "source": []
  }
 ],
 "metadata": {
  "kernelspec": {
   "display_name": "base",
   "language": "python",
   "name": "python3"
  },
  "language_info": {
   "codemirror_mode": {
    "name": "ipython",
    "version": 3
   },
   "file_extension": ".py",
   "mimetype": "text/x-python",
   "name": "python",
   "nbconvert_exporter": "python",
   "pygments_lexer": "ipython3",
   "version": "3.9.12"
  },
  "orig_nbformat": 4
 },
 "nbformat": 4,
 "nbformat_minor": 2
}
