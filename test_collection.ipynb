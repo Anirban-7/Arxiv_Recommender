{
 "cells": [
  {
   "cell_type": "code",
   "execution_count": 4,
   "metadata": {},
   "outputs": [],
   "source": [
    "import arxiv\n",
    "import re\n",
    "import pandas as pd\n",
    "from data_utils import clean_data, clean_authors"
   ]
  },
  {
   "cell_type": "code",
   "execution_count": 5,
   "metadata": {},
   "outputs": [],
   "source": [
    "def format_query(author='',title='',cat='',abstract=''):\n",
    "    \"\"\"Returns a formatted arxiv query string to handle\n",
    "    simple queries of at most one instance each of these fields.\n",
    "    To leave a field unspecified, leave the corresponding argument blank.\n",
    "    \n",
    "    e.g. format_query(cat='math.AP') will return\n",
    "    the string used to pull all articles\n",
    "    with the subject tag 'PDEs',\n",
    "    since Math.AP is the subject tag\n",
    "    for 'Analysis of PDEs'.\n",
    "\n",
    "    Args:\n",
    "        author: string to search for in the author field.\n",
    "        title: string to search for in the title field.\n",
    "        cat: A valid arxiv subject tag. See the full list of these at:\n",
    "        https://arxiv.org/category_taxonomy\n",
    "        abstract: string to search for in the abstract field.\n",
    "\n",
    "    Returns:\n",
    "        properly formatted query string to return\n",
    "        all results simultaneously matching all specified fields.\n",
    "    \"\"\"\n",
    "\n",
    "    tags = [f'au:{author}', f'ti:{title}', f'cat:{cat}', f'abs:{abstract}'] \n",
    "    # the tag.endswith(':') below\n",
    "    # is for filtering out tags that\n",
    "    # we do not pass to the function\n",
    "    query = ' AND '.join([tag for tag in tags if not tag.endswith(':')])\n",
    "    return query\n",
    "\n",
    "\n",
    "\n",
    "def query_to_df(query,max_results):\n",
    "    \"\"\"Returns the results of an arxiv API query in a pandas dataframe.\n",
    "\n",
    "    Args:\n",
    "        query: string defining an arxiv query\n",
    "        formatted according to \n",
    "        https://info.arxiv.org/help/api/user-manual.html#51-details-of-query-construction\n",
    "        \n",
    "        max_results: positive integer specifying\n",
    "        the maximum number of results returned.\n",
    "\n",
    "    Returns:\n",
    "        pandas dataframe with one column for\n",
    "        indivial piece of metadata of a returned result.\n",
    "        To see a list of these columns and their descriptions,\n",
    "        see the documentation for the\n",
    "        Results class of the arxiv package here:\n",
    "        http://lukasschwab.me/arxiv.py/index.html#Result\n",
    "\n",
    "        The 'links' column is dropped and\n",
    "        the authors column is replaced by\n",
    "        a single string of each author name\n",
    "        separated by a comma.\n",
    "\n",
    "    \"\"\"\n",
    "    search = arxiv.Search(\n",
    "            query = query,\n",
    "            max_results=max_results,\n",
    "            sort_by=arxiv.SortCriterion.LastUpdatedDate\n",
    "            )\n",
    "    results = search.results()\n",
    "\n",
    "    drop_cols = ['authors','links','_raw']\n",
    "    df = pd.DataFrame()\n",
    "\n",
    "    for result in results:\n",
    "        row_dict = {k : v for (k,v) in vars(result).items() if k not in drop_cols}\n",
    "        row_dict['authors'] = ','.join([author.name for author in result.authors])\n",
    "        row = pd.Series(row_dict)\n",
    "        df = pd.concat([df , row.to_frame().transpose()], axis = 0)\n",
    "\n",
    "    return df.reset_index(drop=True,inplace=False)\n"
   ]
  },
  {
   "cell_type": "code",
   "execution_count": null,
   "metadata": {},
   "outputs": [],
   "source": [
    "def extract_date(date) :\n",
    "    date_str = str(date)\n",
    "    return round(float(date_str.split('-')[0])+float(date_str.split('-')[1])/12,2)\n",
    "\n",
    "def get_category(category_str):\n",
    "    return category_str[-2:].lower()\n",
    "\n",
    "def get_categories(category_list):\n",
    "    return [get_category(category_str) for category_str in category_list if '.' in category_str]\n",
    "\n",
    "def get_authors(authors_str) :\n",
    "    return [author for author in clean_authors(authors_str).split(',')]"
   ]
  },
  {
   "attachments": {},
   "cell_type": "markdown",
   "metadata": {},
   "source": [
    "## USER INTEREST SETS\n",
    "\n",
    "Here we can each list ArXiv paper IDs to be used as inputs to the model to test its recommendations. See the example `ethan` below, which are Ethan's papers of interest.\n",
    "\n",
    "Note that there is no need to restrict our interest sets to particular dates, or to not intersect the library we are recommending from (i.e., our dataset that we are pulling from)."
   ]
  },
  {
   "cell_type": "code",
   "execution_count": 6,
   "metadata": {},
   "outputs": [],
   "source": [
    "ethan = ['1802.03426', '2304.14481', '2303.03190', '2210.13418',\n",
    "         '2210.12824', '2210.00661', '2007.02390', '1808.05860',\n",
    "         '2005.12732','1804.05690']\n",
    "jeeuhn = ['0905.0486', 'math/0006187', '2106.07444', '1402.0490', \n",
    "          '1512.08942', '1603.09235', 'math/0510265', 'math/0505056', \n",
    "          'math/0604379', '2209.02568']\n",
    "mike = ['2207.13571','2207.13498','2211.09644','2001.10647',\n",
    "        '2103.08093','2207.08245', '2207.01677','2205.08744',\n",
    "        '2008.04406','1912.09845']"
   ]
  },
  {
   "cell_type": "code",
   "execution_count": null,
   "metadata": {},
   "outputs": [],
   "source": [
    "df.updated = df.updated.apply(extract_date)\n",
    "df.published = df.published.apply(extract_date)\n",
    "df.title = df.title.apply(clean_data)\n",
    "df.summary = df.summary.apply(clean_data)\n",
    "df.primary_category = df.primary_category.apply(get_category)\n",
    "df.categories = df.categories.apply(get_categories)\n",
    "df.authors = df.authors.apply(get_authors)"
   ]
  }
 ],
 "metadata": {
  "kernelspec": {
   "display_name": "base",
   "language": "python",
   "name": "python3"
  },
  "language_info": {
   "codemirror_mode": {
    "name": "ipython",
    "version": 3
   },
   "file_extension": ".py",
   "mimetype": "text/x-python",
   "name": "python",
   "nbconvert_exporter": "python",
   "pygments_lexer": "ipython3",
   "version": "3.10.11"
  },
  "orig_nbformat": 4
 },
 "nbformat": 4,
 "nbformat_minor": 2
}
