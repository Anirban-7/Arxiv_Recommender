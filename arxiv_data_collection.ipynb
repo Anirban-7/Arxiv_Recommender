{
 "cells": [
  {
   "cell_type": "code",
   "execution_count": 1,
   "metadata": {},
   "outputs": [],
   "source": [
    "import arxiv\n",
    "import re\n",
    "import pandas as pd\n",
    "from data_utils import clean_data, clean_authors"
   ]
  },
  {
   "cell_type": "code",
   "execution_count": 2,
   "metadata": {},
   "outputs": [],
   "source": [
    "def format_query(author='',title='',cat='',abstract=''):\n",
    "    \"\"\"Returns a formatted arxiv query string to handle\n",
    "    simple queries of at most one instance each of these fields.\n",
    "    To leave a field unspecified, leave the corresponding argument blank.\n",
    "    \n",
    "    e.g. format_query(cat='math.AP') will return\n",
    "    the string used to pull all articles\n",
    "    with the subject tag 'PDEs',\n",
    "    since Math.AP is the subject tag\n",
    "    for 'Analysis of PDEs'.\n",
    "\n",
    "    Args:\n",
    "        author: string to search for in the author field.\n",
    "        title: string to search for in the title field.\n",
    "        cat: A valid arxiv subject tag. See the full list of these at:\n",
    "        https://arxiv.org/category_taxonomy\n",
    "        abstract: string to search for in the abstract field.\n",
    "\n",
    "    Returns:\n",
    "        properly formatted query string to return\n",
    "        all results simultaneously matching all specified fields.\n",
    "    \"\"\"\n",
    "\n",
    "    tags = [f'au:{author}', f'ti:{title}', f'cat:{cat}', f'abs:{abstract}'] \n",
    "    # the tag.endswith(':') below\n",
    "    # is for filtering out tags that\n",
    "    # we do not pass to the function\n",
    "    query = ' AND '.join([tag for tag in tags if not tag.endswith(':')])\n",
    "    return query\n",
    "\n",
    "\n",
    "\n",
    "def query_to_df(query,max_results):\n",
    "    \"\"\"Returns the results of an arxiv API query in a pandas dataframe.\n",
    "\n",
    "    Args:\n",
    "        query: string defining an arxiv query\n",
    "        formatted according to \n",
    "        https://info.arxiv.org/help/api/user-manual.html#51-details-of-query-construction\n",
    "        \n",
    "        max_results: positive integer specifying\n",
    "        the maximum number of results returned.\n",
    "\n",
    "    Returns:\n",
    "        pandas dataframe with one column for\n",
    "        indivial piece of metadata of a returned result.\n",
    "        To see a list of these columns and their descriptions,\n",
    "        see the documentation for the\n",
    "        Results class of the arxiv package here:\n",
    "        http://lukasschwab.me/arxiv.py/index.html#Result\n",
    "\n",
    "        The 'links' column is dropped and\n",
    "        the authors column is replaced by\n",
    "        a single string of each author name\n",
    "        separated by a comma.\n",
    "\n",
    "    \"\"\"\n",
    "    search = arxiv.Search(\n",
    "            query = query,\n",
    "            max_results=max_results,\n",
    "            sort_by=arxiv.SortCriterion.LastUpdatedDate\n",
    "            )\n",
    "    results = search.results()\n",
    "\n",
    "    drop_cols = ['authors','links','_raw']\n",
    "    df = pd.DataFrame()\n",
    "\n",
    "    for result in results:\n",
    "        row_dict = {k : v for (k,v) in vars(result).items() if k not in drop_cols}\n",
    "        row_dict['authors'] = ','.join([author.name for author in result.authors])\n",
    "        row = pd.Series(row_dict)\n",
    "        df = pd.concat([df , row.to_frame().transpose()], axis = 0)\n",
    "\n",
    "    return df.reset_index(drop=True,inplace=False)\n"
   ]
  },
  {
   "cell_type": "code",
   "execution_count": 3,
   "metadata": {},
   "outputs": [],
   "source": [
    "#Tentative working dataset: 1000 most recent articles from:\n",
    "#math physics(math.MP), pdes(math.AP), representation theory(math.RT), quantum algebra(math.QA), differential geometry(math.DG)\n",
    "\n",
    "query = format_query(cat='math.MP')\n",
    "physics = query_to_df(query=query,max_results=1000)\n",
    "\n",
    "query = format_query(cat='math.AP')\n",
    "pdes = query_to_df(query=query,max_results=1000)\n",
    "\n",
    "query = format_query(cat='math.RT')\n",
    "reps = query_to_df(query=query,max_results=1000)\n",
    "\n",
    "query = format_query(cat='math.QA')\n",
    "qalgs = query_to_df(query=query,max_results=1000)\n",
    "\n",
    "query = format_query(cat='math.DG')\n",
    "dgs = query_to_df(query=query,max_results=1000)\n",
    "\n",
    "df = pd.concat([physics,pdes,reps,qalgs, dgs], axis = 0)"
   ]
  },
  {
   "cell_type": "code",
   "execution_count": 4,
   "metadata": {},
   "outputs": [
    {
     "data": {
      "text/plain": [
       "(5000, 12)"
      ]
     },
     "execution_count": 4,
     "metadata": {},
     "output_type": "execute_result"
    }
   ],
   "source": [
    "df.shape"
   ]
  },
  {
   "cell_type": "code",
   "execution_count": 5,
   "metadata": {},
   "outputs": [
    {
     "data": {
      "text/plain": [
       "Index(['entry_id', 'updated', 'published', 'title', 'summary', 'comment',\n",
       "       'journal_ref', 'doi', 'primary_category', 'categories', 'pdf_url',\n",
       "       'authors'],\n",
       "      dtype='object')"
      ]
     },
     "execution_count": 5,
     "metadata": {},
     "output_type": "execute_result"
    }
   ],
   "source": [
    "df.columns"
   ]
  },
  {
   "cell_type": "code",
   "execution_count": 6,
   "metadata": {},
   "outputs": [],
   "source": [
    "df = df.drop([ 'entry_id', 'comment', 'journal_ref', 'doi', 'pdf_url'], axis = 1)"
   ]
  },
  {
   "cell_type": "code",
   "execution_count": 7,
   "metadata": {},
   "outputs": [],
   "source": [
    "def extract_date(date) :\n",
    "    date_str = str(date)\n",
    "    return round(float(date_str.split('-')[0])+float(date_str.split('-')[1])/12,2)\n",
    "\n",
    "def get_category(category_str):\n",
    "    return category_str[-2:].lower()\n",
    "\n",
    "def get_categories(category_list):\n",
    "    return [get_category(category_str) for category_str in category_list if '.' in category_str]\n",
    "\n",
    "def get_authors(authors_str) :\n",
    "    return [author for author in clean_authors(authors_str).split(',')]"
   ]
  },
  {
   "cell_type": "code",
   "execution_count": 8,
   "metadata": {},
   "outputs": [],
   "source": [
    "df.updated = df.updated.apply(extract_date)\n",
    "df.published = df.published.apply(extract_date)\n",
    "df.title = df.title.apply(clean_data)\n",
    "df.summary = df.summary.apply(clean_data)\n",
    "df.primary_category = df.primary_category.apply(get_category)\n",
    "df.categories = df.categories.apply(get_categories)\n",
    "df.authors = df.authors.apply(get_authors)"
   ]
  },
  {
   "cell_type": "code",
   "execution_count": 9,
   "metadata": {},
   "outputs": [
    {
     "data": {
      "text/html": [
       "<div>\n",
       "<style scoped>\n",
       "    .dataframe tbody tr th:only-of-type {\n",
       "        vertical-align: middle;\n",
       "    }\n",
       "\n",
       "    .dataframe tbody tr th {\n",
       "        vertical-align: top;\n",
       "    }\n",
       "\n",
       "    .dataframe thead th {\n",
       "        text-align: right;\n",
       "    }\n",
       "</style>\n",
       "<table border=\"1\" class=\"dataframe\">\n",
       "  <thead>\n",
       "    <tr style=\"text-align: right;\">\n",
       "      <th></th>\n",
       "      <th>updated</th>\n",
       "      <th>published</th>\n",
       "      <th>title</th>\n",
       "      <th>summary</th>\n",
       "      <th>primary_category</th>\n",
       "      <th>categories</th>\n",
       "      <th>authors</th>\n",
       "    </tr>\n",
       "  </thead>\n",
       "  <tbody>\n",
       "    <tr>\n",
       "      <th>0</th>\n",
       "      <td>2023.42</td>\n",
       "      <td>2023.42</td>\n",
       "      <td>stationary solutions for the nonlinear schroed...</td>\n",
       "      <td>we construct stationary statistical solutions ...</td>\n",
       "      <td>ap</td>\n",
       "      <td>[ap, mp, pr]</td>\n",
       "      <td>[benedetta ferrario, margherita zanella]</td>\n",
       "    </tr>\n",
       "    <tr>\n",
       "      <th>1</th>\n",
       "      <td>2023.42</td>\n",
       "      <td>2023.33</td>\n",
       "      <td>entanglement of sections examples looking for ...</td>\n",
       "      <td>quantum information is about the entanglement ...</td>\n",
       "      <td>ph</td>\n",
       "      <td>[at, mp]</td>\n",
       "      <td>[m h freedman, m b hastings]</td>\n",
       "    </tr>\n",
       "    <tr>\n",
       "      <th>2</th>\n",
       "      <td>2023.42</td>\n",
       "      <td>2022.67</td>\n",
       "      <td>the calogero moser derivative nonlinear schroe...</td>\n",
       "      <td>we study the calogero moser derivative nls equ...</td>\n",
       "      <td>ap</td>\n",
       "      <td>[ap, mp, si]</td>\n",
       "      <td>[patrick gerard, enno lenzmann]</td>\n",
       "    </tr>\n",
       "    <tr>\n",
       "      <th>3</th>\n",
       "      <td>2023.42</td>\n",
       "      <td>2023.42</td>\n",
       "      <td>global in space stability of singularity forma...</td>\n",
       "      <td>we continue our work on the analysis of spatia...</td>\n",
       "      <td>ap</td>\n",
       "      <td>[ap, dg, mp]</td>\n",
       "      <td>[irfan glogic]</td>\n",
       "    </tr>\n",
       "    <tr>\n",
       "      <th>4</th>\n",
       "      <td>2023.42</td>\n",
       "      <td>2023.42</td>\n",
       "      <td>monitored non adiabatic and coherent controlle...</td>\n",
       "      <td>recently measurement based quantum thermal mac...</td>\n",
       "      <td>ph</td>\n",
       "      <td>[mp]</td>\n",
       "      <td>[abdelkader el makouri, abdallah slaoui, rachi...</td>\n",
       "    </tr>\n",
       "  </tbody>\n",
       "</table>\n",
       "</div>"
      ],
      "text/plain": [
       "   updated  published                                              title  \\\n",
       "0  2023.42    2023.42  stationary solutions for the nonlinear schroed...   \n",
       "1  2023.42    2023.33  entanglement of sections examples looking for ...   \n",
       "2  2023.42    2022.67  the calogero moser derivative nonlinear schroe...   \n",
       "3  2023.42    2023.42  global in space stability of singularity forma...   \n",
       "4  2023.42    2023.42  monitored non adiabatic and coherent controlle...   \n",
       "\n",
       "                                             summary primary_category  \\\n",
       "0  we construct stationary statistical solutions ...               ap   \n",
       "1  quantum information is about the entanglement ...               ph   \n",
       "2  we study the calogero moser derivative nls equ...               ap   \n",
       "3  we continue our work on the analysis of spatia...               ap   \n",
       "4  recently measurement based quantum thermal mac...               ph   \n",
       "\n",
       "     categories                                            authors  \n",
       "0  [ap, mp, pr]           [benedetta ferrario, margherita zanella]  \n",
       "1      [at, mp]                       [m h freedman, m b hastings]  \n",
       "2  [ap, mp, si]                    [patrick gerard, enno lenzmann]  \n",
       "3  [ap, dg, mp]                                     [irfan glogic]  \n",
       "4          [mp]  [abdelkader el makouri, abdallah slaoui, rachi...  "
      ]
     },
     "execution_count": 9,
     "metadata": {},
     "output_type": "execute_result"
    }
   ],
   "source": [
    "df.head(5)"
   ]
  },
  {
   "cell_type": "code",
   "execution_count": 10,
   "metadata": {},
   "outputs": [],
   "source": [
    "df.to_csv('data/df_experiment',header = True)"
   ]
  }
 ],
 "metadata": {
  "kernelspec": {
   "display_name": "base",
   "language": "python",
   "name": "python3"
  },
  "language_info": {
   "codemirror_mode": {
    "name": "ipython",
    "version": 3
   },
   "file_extension": ".py",
   "mimetype": "text/x-python",
   "name": "python",
   "nbconvert_exporter": "python",
   "pygments_lexer": "ipython3",
   "version": "3.9.12"
  },
  "orig_nbformat": 4
 },
 "nbformat": 4,
 "nbformat_minor": 2
}
