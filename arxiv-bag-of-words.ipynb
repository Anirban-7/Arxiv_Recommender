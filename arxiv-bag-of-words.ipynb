{
 "cells": [
  {
   "cell_type": "code",
   "execution_count": 103,
   "id": "0c3c37c1",
   "metadata": {},
   "outputs": [],
   "source": [
    "import pandas as pd\n",
    "import numpy as np\n",
    "\n",
    "from nltk.corpus import stopwords"
   ]
  },
  {
   "cell_type": "markdown",
   "id": "12749eef",
   "metadata": {},
   "source": [
    "## Applying Bag of Words to a collection of abstracts from ArXiv articles."
   ]
  },
  {
   "cell_type": "code",
   "execution_count": 104,
   "id": "ecd5a532",
   "metadata": {},
   "outputs": [
    {
     "data": {
      "text/html": [
       "<div>\n",
       "<style scoped>\n",
       "    .dataframe tbody tr th:only-of-type {\n",
       "        vertical-align: middle;\n",
       "    }\n",
       "\n",
       "    .dataframe tbody tr th {\n",
       "        vertical-align: top;\n",
       "    }\n",
       "\n",
       "    .dataframe thead th {\n",
       "        text-align: right;\n",
       "    }\n",
       "</style>\n",
       "<table border=\"1\" class=\"dataframe\">\n",
       "  <thead>\n",
       "    <tr style=\"text-align: right;\">\n",
       "      <th></th>\n",
       "      <th>Unnamed: 0</th>\n",
       "      <th>entry_id</th>\n",
       "      <th>updated</th>\n",
       "      <th>published</th>\n",
       "      <th>title</th>\n",
       "      <th>summary</th>\n",
       "      <th>primary_category</th>\n",
       "      <th>categories</th>\n",
       "      <th>authors</th>\n",
       "    </tr>\n",
       "  </thead>\n",
       "  <tbody>\n",
       "    <tr>\n",
       "      <th>0</th>\n",
       "      <td>0</td>\n",
       "      <td>http://arxiv.org/abs/2305.11154v1</td>\n",
       "      <td>2023.42</td>\n",
       "      <td>2023.42</td>\n",
       "      <td>non linear operator valued elliptic flows with...</td>\n",
       "      <td>differential equations on spaces of operators ...</td>\n",
       "      <td>ph</td>\n",
       "      <td>['mp']</td>\n",
       "      <td>['jean bernard bru', 'nathan metraud']</td>\n",
       "    </tr>\n",
       "    <tr>\n",
       "      <th>1</th>\n",
       "      <td>1</td>\n",
       "      <td>http://arxiv.org/abs/2305.11103v1</td>\n",
       "      <td>2023.42</td>\n",
       "      <td>2023.42</td>\n",
       "      <td>blockwise inversion and algorithms for inverti...</td>\n",
       "      <td>using the blockwise matrix inversion inversion...</td>\n",
       "      <td>na</td>\n",
       "      <td>['na', 'na', 'mp']</td>\n",
       "      <td>['r thiru senthil']</td>\n",
       "    </tr>\n",
       "    <tr>\n",
       "      <th>2</th>\n",
       "      <td>2</td>\n",
       "      <td>http://arxiv.org/abs/2305.11054v1</td>\n",
       "      <td>2023.42</td>\n",
       "      <td>2023.42</td>\n",
       "      <td>ising systems measures on the sphere and zonoids</td>\n",
       "      <td>we give an interpretation of a class of discre...</td>\n",
       "      <td>ap</td>\n",
       "      <td>['ap', 'mp', 'oc']</td>\n",
       "      <td>['andrea braides', 'antonin chambolle']</td>\n",
       "    </tr>\n",
       "    <tr>\n",
       "      <th>3</th>\n",
       "      <td>3</td>\n",
       "      <td>http://arxiv.org/abs/2210.09458v2</td>\n",
       "      <td>2023.42</td>\n",
       "      <td>2022.83</td>\n",
       "      <td>mobility edge for levy matrices</td>\n",
       "      <td>levy matrices are symmetric random matrices wh...</td>\n",
       "      <td>pr</td>\n",
       "      <td>['pr', 'mp']</td>\n",
       "      <td>['amol aggarwal', 'charles bordenave', 'patric...</td>\n",
       "    </tr>\n",
       "    <tr>\n",
       "      <th>4</th>\n",
       "      <td>4</td>\n",
       "      <td>http://arxiv.org/abs/2205.08765v2</td>\n",
       "      <td>2023.42</td>\n",
       "      <td>2022.42</td>\n",
       "      <td>necessary and sufficient conditions for one di...</td>\n",
       "      <td>this paper deals with necessary and sufficient...</td>\n",
       "      <td>ca</td>\n",
       "      <td>['ca', 'ft', 'mp']</td>\n",
       "      <td>['pavol quittner']</td>\n",
       "    </tr>\n",
       "  </tbody>\n",
       "</table>\n",
       "</div>"
      ],
      "text/plain": [
       "   Unnamed: 0                           entry_id  updated  published  \\\n",
       "0           0  http://arxiv.org/abs/2305.11154v1  2023.42    2023.42   \n",
       "1           1  http://arxiv.org/abs/2305.11103v1  2023.42    2023.42   \n",
       "2           2  http://arxiv.org/abs/2305.11054v1  2023.42    2023.42   \n",
       "3           3  http://arxiv.org/abs/2210.09458v2  2023.42    2022.83   \n",
       "4           4  http://arxiv.org/abs/2205.08765v2  2023.42    2022.42   \n",
       "\n",
       "                                               title  \\\n",
       "0  non linear operator valued elliptic flows with...   \n",
       "1  blockwise inversion and algorithms for inverti...   \n",
       "2   ising systems measures on the sphere and zonoids   \n",
       "3                    mobility edge for levy matrices   \n",
       "4  necessary and sufficient conditions for one di...   \n",
       "\n",
       "                                             summary primary_category  \\\n",
       "0  differential equations on spaces of operators ...               ph   \n",
       "1  using the blockwise matrix inversion inversion...               na   \n",
       "2  we give an interpretation of a class of discre...               ap   \n",
       "3  levy matrices are symmetric random matrices wh...               pr   \n",
       "4  this paper deals with necessary and sufficient...               ca   \n",
       "\n",
       "           categories                                            authors  \n",
       "0              ['mp']             ['jean bernard bru', 'nathan metraud']  \n",
       "1  ['na', 'na', 'mp']                                ['r thiru senthil']  \n",
       "2  ['ap', 'mp', 'oc']            ['andrea braides', 'antonin chambolle']  \n",
       "3        ['pr', 'mp']  ['amol aggarwal', 'charles bordenave', 'patric...  \n",
       "4  ['ca', 'ft', 'mp']                                 ['pavol quittner']  "
      ]
     },
     "execution_count": 104,
     "metadata": {},
     "output_type": "execute_result"
    }
   ],
   "source": [
    "df = pd.read_csv(\"./data/df_experiment\")\n",
    "df.head()"
   ]
  },
  {
   "cell_type": "code",
   "execution_count": 105,
   "id": "03ad8ec8",
   "metadata": {},
   "outputs": [],
   "source": [
    "df = df.drop(['Unnamed: 0'], axis=1)"
   ]
  },
  {
   "cell_type": "code",
   "execution_count": 106,
   "id": "3473da4b",
   "metadata": {},
   "outputs": [],
   "source": [
    "## Tokenize the abstract by splitting on whitespaces\n",
    "## and get rid of the occasional empty string.\n",
    "def clear_empty(clean_string):\n",
    "    return [word for word in clean_string.split(\" \") if word != '']"
   ]
  },
  {
   "cell_type": "code",
   "execution_count": 107,
   "id": "ccec4b8f",
   "metadata": {},
   "outputs": [],
   "source": [
    "# print(stopwords.words('english'))"
   ]
  },
  {
   "cell_type": "code",
   "execution_count": 108,
   "id": "8f7c5a1e",
   "metadata": {},
   "outputs": [],
   "source": [
    "## Remove stop words from the tokenized abstracts\n",
    "def remove_stop(tokens):\n",
    "    return [token for token in tokens if token not in stopwords.words('english')]"
   ]
  },
  {
   "cell_type": "code",
   "execution_count": 109,
   "id": "6eaa565b",
   "metadata": {},
   "outputs": [
    {
     "data": {
      "text/html": [
       "<div>\n",
       "<style scoped>\n",
       "    .dataframe tbody tr th:only-of-type {\n",
       "        vertical-align: middle;\n",
       "    }\n",
       "\n",
       "    .dataframe tbody tr th {\n",
       "        vertical-align: top;\n",
       "    }\n",
       "\n",
       "    .dataframe thead th {\n",
       "        text-align: right;\n",
       "    }\n",
       "</style>\n",
       "<table border=\"1\" class=\"dataframe\">\n",
       "  <thead>\n",
       "    <tr style=\"text-align: right;\">\n",
       "      <th></th>\n",
       "      <th>entry_id</th>\n",
       "      <th>updated</th>\n",
       "      <th>published</th>\n",
       "      <th>title</th>\n",
       "      <th>summary</th>\n",
       "      <th>primary_category</th>\n",
       "      <th>categories</th>\n",
       "      <th>authors</th>\n",
       "      <th>summary_tokenized</th>\n",
       "    </tr>\n",
       "  </thead>\n",
       "  <tbody>\n",
       "    <tr>\n",
       "      <th>0</th>\n",
       "      <td>http://arxiv.org/abs/2305.11154v1</td>\n",
       "      <td>2023.42</td>\n",
       "      <td>2023.42</td>\n",
       "      <td>non linear operator valued elliptic flows with...</td>\n",
       "      <td>differential equations on spaces of operators ...</td>\n",
       "      <td>ph</td>\n",
       "      <td>['mp']</td>\n",
       "      <td>['jean bernard bru', 'nathan metraud']</td>\n",
       "      <td>[differential, equations, spaces, operators, l...</td>\n",
       "    </tr>\n",
       "    <tr>\n",
       "      <th>1</th>\n",
       "      <td>http://arxiv.org/abs/2305.11103v1</td>\n",
       "      <td>2023.42</td>\n",
       "      <td>2023.42</td>\n",
       "      <td>blockwise inversion and algorithms for inverti...</td>\n",
       "      <td>using the blockwise matrix inversion inversion...</td>\n",
       "      <td>na</td>\n",
       "      <td>['na', 'na', 'mp']</td>\n",
       "      <td>['r thiru senthil']</td>\n",
       "      <td>[using, blockwise, matrix, inversion, inversio...</td>\n",
       "    </tr>\n",
       "    <tr>\n",
       "      <th>2</th>\n",
       "      <td>http://arxiv.org/abs/2305.11054v1</td>\n",
       "      <td>2023.42</td>\n",
       "      <td>2023.42</td>\n",
       "      <td>ising systems measures on the sphere and zonoids</td>\n",
       "      <td>we give an interpretation of a class of discre...</td>\n",
       "      <td>ap</td>\n",
       "      <td>['ap', 'mp', 'oc']</td>\n",
       "      <td>['andrea braides', 'antonin chambolle']</td>\n",
       "      <td>[give, interpretation, class, discrete, contin...</td>\n",
       "    </tr>\n",
       "    <tr>\n",
       "      <th>3</th>\n",
       "      <td>http://arxiv.org/abs/2210.09458v2</td>\n",
       "      <td>2023.42</td>\n",
       "      <td>2022.83</td>\n",
       "      <td>mobility edge for levy matrices</td>\n",
       "      <td>levy matrices are symmetric random matrices wh...</td>\n",
       "      <td>pr</td>\n",
       "      <td>['pr', 'mp']</td>\n",
       "      <td>['amol aggarwal', 'charles bordenave', 'patric...</td>\n",
       "      <td>[levy, matrices, symmetric, random, matrices, ...</td>\n",
       "    </tr>\n",
       "    <tr>\n",
       "      <th>4</th>\n",
       "      <td>http://arxiv.org/abs/2205.08765v2</td>\n",
       "      <td>2023.42</td>\n",
       "      <td>2022.42</td>\n",
       "      <td>necessary and sufficient conditions for one di...</td>\n",
       "      <td>this paper deals with necessary and sufficient...</td>\n",
       "      <td>ca</td>\n",
       "      <td>['ca', 'ft', 'mp']</td>\n",
       "      <td>['pavol quittner']</td>\n",
       "      <td>[paper, deals, necessary, sufficient, conditio...</td>\n",
       "    </tr>\n",
       "  </tbody>\n",
       "</table>\n",
       "</div>"
      ],
      "text/plain": [
       "                            entry_id  updated  published  \\\n",
       "0  http://arxiv.org/abs/2305.11154v1  2023.42    2023.42   \n",
       "1  http://arxiv.org/abs/2305.11103v1  2023.42    2023.42   \n",
       "2  http://arxiv.org/abs/2305.11054v1  2023.42    2023.42   \n",
       "3  http://arxiv.org/abs/2210.09458v2  2023.42    2022.83   \n",
       "4  http://arxiv.org/abs/2205.08765v2  2023.42    2022.42   \n",
       "\n",
       "                                               title  \\\n",
       "0  non linear operator valued elliptic flows with...   \n",
       "1  blockwise inversion and algorithms for inverti...   \n",
       "2   ising systems measures on the sphere and zonoids   \n",
       "3                    mobility edge for levy matrices   \n",
       "4  necessary and sufficient conditions for one di...   \n",
       "\n",
       "                                             summary primary_category  \\\n",
       "0  differential equations on spaces of operators ...               ph   \n",
       "1  using the blockwise matrix inversion inversion...               na   \n",
       "2  we give an interpretation of a class of discre...               ap   \n",
       "3  levy matrices are symmetric random matrices wh...               pr   \n",
       "4  this paper deals with necessary and sufficient...               ca   \n",
       "\n",
       "           categories                                            authors  \\\n",
       "0              ['mp']             ['jean bernard bru', 'nathan metraud']   \n",
       "1  ['na', 'na', 'mp']                                ['r thiru senthil']   \n",
       "2  ['ap', 'mp', 'oc']            ['andrea braides', 'antonin chambolle']   \n",
       "3        ['pr', 'mp']  ['amol aggarwal', 'charles bordenave', 'patric...   \n",
       "4  ['ca', 'ft', 'mp']                                 ['pavol quittner']   \n",
       "\n",
       "                                   summary_tokenized  \n",
       "0  [differential, equations, spaces, operators, l...  \n",
       "1  [using, blockwise, matrix, inversion, inversio...  \n",
       "2  [give, interpretation, class, discrete, contin...  \n",
       "3  [levy, matrices, symmetric, random, matrices, ...  \n",
       "4  [paper, deals, necessary, sufficient, conditio...  "
      ]
     },
     "execution_count": 109,
     "metadata": {},
     "output_type": "execute_result"
    }
   ],
   "source": [
    "## split the abtracts \n",
    "df['summary_tokenized'] = df['summary'].apply(clear_empty)\n",
    "\n",
    "## remove the stop words from the abstracts\n",
    "df['summary_tokenized'] = df['summary_tokenized'].apply(remove_stop)\n",
    "df.head()"
   ]
  },
  {
   "cell_type": "code",
   "execution_count": 112,
   "id": "de8fce5d",
   "metadata": {},
   "outputs": [],
   "source": [
    "# This will take in a dataframe of \"words\" (note ngrams will work as well)\n",
    "# and return a list of the unique words, which forms the basis set\n",
    "\n",
    "def get_bow_basis(df,column_name):\n",
    "    basis_set = []\n",
    "    \n",
    "    for i in df.index:\n",
    "        for word in df[column_name][i]:\n",
    "            basis_set.append(word)\n",
    "    ## The set function removes duplicates        \n",
    "    return np.array(list(set(basis_set)))\n",
    "\n",
    "## This will take in a basis set and a message's tokens\n",
    "## and return the bag of words numpy array (vector)\n",
    "def get_bow_vector(tokens, basis_set):\n",
    "    vector = np.zeros(len(basis_set))\n",
    "    \n",
    "    for word in tokens:\n",
    "        # Note this is here for when we look at the test set\n",
    "        if word in basis_set:\n",
    "            vector[basis_set == word] = vector[basis_set == word] + 1\n",
    "        \n",
    "    return vector"
   ]
  },
  {
   "cell_type": "code",
   "execution_count": 114,
   "id": "23ee367c",
   "metadata": {},
   "outputs": [
    {
     "name": "stdout",
     "output_type": "stream",
     "text": [
      "The length of the basis set is 16011\n"
     ]
    }
   ],
   "source": [
    "basis_set = get_bow_basis(df, 'summary_tokenized')\n",
    "print(\"The length of the basis set is\", len(basis_set))\n",
    "#print((basis_set))\n",
    "\n",
    "# Without removing stopwords the length of the basis set is 16136."
   ]
  },
  {
   "cell_type": "markdown",
   "id": "28aca4af",
   "metadata": {},
   "source": [
    "Next, we make the <i>document-term matrix </i> which is an `np.array` that records the bag of words vector for each of the abstracts in the dataframe. Each row of the array represents an abstract and each column reprensents one of the entries of the basis set."
   ]
  },
  {
   "cell_type": "code",
   "execution_count": 115,
   "id": "0a3a87e8",
   "metadata": {},
   "outputs": [],
   "source": [
    "doc_term_matrix = np.zeros((len(df), len(basis_set)))\n",
    "\n",
    "for i in range(len(df)):\n",
    "    ## Each row of the array is replaced with the bag of words vector \n",
    "    ## for that document (abstract)\n",
    "    doc_term_matrix[i,:] = get_bow_vector(list(df.summary_tokenized)[i], basis_set)"
   ]
  },
  {
   "cell_type": "code",
   "execution_count": 116,
   "id": "3dc8002f",
   "metadata": {},
   "outputs": [
    {
     "data": {
      "text/plain": [
       "(4462, 16011)"
      ]
     },
     "execution_count": 116,
     "metadata": {},
     "output_type": "execute_result"
    }
   ],
   "source": [
    "np.shape(doc_term_matrix)"
   ]
  },
  {
   "cell_type": "markdown",
   "id": "c61aa6d9",
   "metadata": {},
   "source": [
    "#### Some PCA analysis"
   ]
  },
  {
   "cell_type": "code",
   "execution_count": 117,
   "id": "c0538867",
   "metadata": {},
   "outputs": [],
   "source": [
    "## import pca and matplotlib.pyplot\n",
    "from sklearn.preprocessing import StandardScaler\n",
    "from sklearn.pipeline import Pipeline\n",
    "from sklearn.decomposition import PCA\n",
    "\n",
    "import matplotlib.pyplot as plt\n",
    "from seaborn import set_style\n",
    "\n",
    "set_style(\"whitegrid\")"
   ]
  },
  {
   "cell_type": "code",
   "execution_count": 118,
   "id": "a2180983",
   "metadata": {},
   "outputs": [
    {
     "data": {
      "text/plain": [
       "Pipeline(steps=[('scale', StandardScaler()), ('pca', PCA())])"
      ]
     },
     "execution_count": 118,
     "metadata": {},
     "output_type": "execute_result"
    }
   ],
   "source": [
    "# This is a pipeline that scales the data and then\n",
    "# applies pca\n",
    "pca_pipe = Pipeline([('scale',StandardScaler()),\n",
    "                         ('pca',PCA())])\n",
    "\n",
    "# This fits the pipeline\n",
    "pca_pipe.fit(doc_term_matrix)"
   ]
  },
  {
   "cell_type": "code",
   "execution_count": 119,
   "id": "98133902",
   "metadata": {},
   "outputs": [
    {
     "data": {
      "image/png": "[encoded data removed]",
      "text/plain": [
       "<Figure size 700x500 with 1 Axes>"
      ]
     },
     "metadata": {},
     "output_type": "display_data"
    }
   ],
   "source": [
    "plt.figure(figsize=(7,5))\n",
    "\n",
    "# plot the number of components on the x\n",
    "# plot the explained variance ratio on the y\n",
    "plt.plot(range(1, len(pca_pipe['pca'].explained_variance_ratio_)+1),\n",
    "            np.cumsum(pca_pipe['pca'].explained_variance_ratio_))\n",
    "\n",
    "plt.xlabel(\"Number of Components\",fontsize=14)\n",
    "plt.ylabel(\"Cumulative Explained Variance\",fontsize=14)\n",
    "\n",
    "plt.show()"
   ]
  },
  {
   "cell_type": "markdown",
   "id": "373d751e",
   "metadata": {},
   "source": [
    "### Word Frequency Vectors"
   ]
  },
  {
   "cell_type": "code",
   "execution_count": 120,
   "id": "87c583c2",
   "metadata": {},
   "outputs": [
    {
     "name": "stdout",
     "output_type": "stream",
     "text": [
      "[[ 92.]\n",
      " [ 41.]\n",
      " [ 91.]\n",
      " ...\n",
      " [ 26.]\n",
      " [ 25.]\n",
      " [118.]]\n"
     ]
    }
   ],
   "source": [
    "## Convert the document-term matrix from a bag of words matrix \n",
    "## to a frequency matrix, called `doc_term_freq_matrix`.\n",
    "\n",
    "# np.sum(array,axis=1) computes a row sum\n",
    "# This gives the word counts for the documents \n",
    "# .reshape(-1,1) turns it into a column vector\n",
    "doc_term_freq_matrix = doc_term_matrix / np.sum(doc_term_matrix,axis=1).reshape(-1,1)\n",
    "\n",
    "print(np.sum(doc_term_matrix,axis=1).reshape(-1,1))"
   ]
  },
  {
   "cell_type": "code",
   "execution_count": 121,
   "id": "d6e784e8",
   "metadata": {},
   "outputs": [
    {
     "data": {
      "text/plain": [
       "array([1., 1., 1., ..., 1., 1., 1.])"
      ]
     },
     "execution_count": 121,
     "metadata": {},
     "output_type": "execute_result"
    }
   ],
   "source": [
    "np.sum(doc_term_freq_matrix,axis=1)"
   ]
  },
  {
   "cell_type": "markdown",
   "id": "1cdcc70c",
   "metadata": {},
   "source": [
    "#### PCA analysis on word frequency vectors"
   ]
  },
  {
   "cell_type": "code",
   "execution_count": 122,
   "id": "35af48b5",
   "metadata": {},
   "outputs": [
    {
     "data": {
      "text/plain": [
       "Pipeline(steps=[('scale', StandardScaler()), ('pca', PCA())])"
      ]
     },
     "execution_count": 122,
     "metadata": {},
     "output_type": "execute_result"
    }
   ],
   "source": [
    "# we make a new pipeline for this second model\n",
    "pca_pipe_freq = Pipeline([('scale',StandardScaler()),\n",
    "                             ('pca',PCA())])\n",
    "\n",
    "pca_pipe_freq.fit(doc_term_freq_matrix)"
   ]
  },
  {
   "cell_type": "code",
   "execution_count": 130,
   "id": "0b66693b",
   "metadata": {},
   "outputs": [
    {
     "data": {
      "image/png": "[encoded data removed]",
      "text/plain": [
       "<Figure size 700x500 with 1 Axes>"
      ]
     },
     "metadata": {},
     "output_type": "display_data"
    }
   ],
   "source": [
    "plt.figure(figsize=(7,5))\n",
    "\n",
    "plt.plot(range(1, len(pca_pipe_freq['pca'].explained_variance_ratio_)+1),\n",
    "            np.cumsum(pca_pipe_freq['pca'].explained_variance_ratio_))\n",
    "\n",
    "plt.title(\"Word Frequency\")\n",
    "plt.xlabel(\"Number of Components\",fontsize=14)\n",
    "plt.ylabel(\"Cumulative Explained Variance\",fontsize=14)\n",
    "\n",
    "plt.show()"
   ]
  },
  {
   "cell_type": "markdown",
   "id": "2856df10",
   "metadata": {},
   "source": [
    "#### Compute the closeness of  the frequency vectors using cosine similarity"
   ]
  },
  {
   "cell_type": "code",
   "execution_count": 38,
   "id": "61a837fc",
   "metadata": {},
   "outputs": [],
   "source": [
    "## This code does takes way too long to finish!\n",
    "\n",
    "# Make a zeros similarity matrix\n",
    "#word_freq_sim = np.zeros((len(df), len(df)))\n",
    "\n",
    "#for i in range(len(df)):\n",
    "#    for j in range(i+1,len(df)):\n",
    "#       i_j_sim = cos_sim(doc_term_freq_matrix[i,:], doc_term_freq_matrix[j,:])\n",
    "#        word_freq_sim[i,j] = i_j_sim\n",
    "#        word_freq_sim[j,i] = i_j_sim\n",
    "        \n",
    "#word_freq_sim"
   ]
  },
  {
   "cell_type": "code",
   "execution_count": 146,
   "id": "b2a3edb8",
   "metadata": {},
   "outputs": [],
   "source": [
    "#plt.figure(figsize=(14,14))\n",
    "\n",
    "#plt.imshow(word_freq_sim, cmap='plasma')\n",
    "\n",
    "#plt.xlabel(\"ArXiv Document Number\", fontsize=18)\n",
    "#plt.ylabel(\"ArXiv Document Number\", fontsize=18)\n",
    "#plt.title(\"Word Frequency Similarity Heat Map\", fontsize=18)\n",
    "\n",
    "#cb = plt.colorbar()\n",
    "#cb.ax.get_yaxis().labelpad = 25\n",
    "#cb.ax.set_ylabel('Cosine Similarity', rotation=270, fontsize=18)\n",
    "\n",
    "#plt.show()"
   ]
  },
  {
   "cell_type": "markdown",
   "id": "baa804da",
   "metadata": {},
   "source": [
    "### TF-IDF Vectors \n",
    "\n",
    "Computed as: \n",
    "$$\n",
    "\\text{tf-idf } = \\text{ term-frequency } \\times \\text{ }\\log(\\text{inverse-document-frequency}) \\text{}\n",
    "$$"
   ]
  },
  {
   "cell_type": "code",
   "execution_count": 124,
   "id": "c7d708b6",
   "metadata": {},
   "outputs": [],
   "source": [
    "def get_idf(doc_term_matrix):\n",
    "    # how many documents are there?\n",
    "    n_docs = np.shape(doc_term_matrix)[0]\n",
    "    \n",
    "    # doc_term_mat>0 makes a boolean array of any time the array >0\n",
    "    # summing along the columns gives the number of documents each term appears in\n",
    "    return np.log10(n_docs / np.sum(doc_term_matrix > 0, axis=0))"
   ]
  },
  {
   "cell_type": "code",
   "execution_count": 125,
   "id": "2bf2da7b",
   "metadata": {},
   "outputs": [],
   "source": [
    "doc_term_tfidf_matrix = doc_term_freq_matrix * get_idf(doc_term_matrix)"
   ]
  },
  {
   "cell_type": "markdown",
   "id": "75887804",
   "metadata": {},
   "source": [
    "#### PCA analysis on TF-IDF vectors"
   ]
  },
  {
   "cell_type": "code",
   "execution_count": 126,
   "id": "8e0b10fc",
   "metadata": {},
   "outputs": [
    {
     "data": {
      "text/plain": [
       "Pipeline(steps=[('scale', StandardScaler()), ('pca', PCA())])"
      ]
     },
     "execution_count": 126,
     "metadata": {},
     "output_type": "execute_result"
    }
   ],
   "source": [
    "pca_pipe_tfidf = Pipeline([('scale',StandardScaler()),\n",
    "                             ('pca',PCA())])\n",
    "\n",
    "pca_pipe_tfidf.fit(doc_term_tfidf_matrix)"
   ]
  },
  {
   "cell_type": "code",
   "execution_count": 129,
   "id": "7effcbe7",
   "metadata": {},
   "outputs": [
    {
     "data": {
      "image/png": "[encoded data removed]",
      "text/plain": [
       "<Figure size 700x500 with 1 Axes>"
      ]
     },
     "metadata": {},
     "output_type": "display_data"
    }
   ],
   "source": [
    "plt.figure(figsize=(7,5))\n",
    "\n",
    "plt.plot(range(1, len(pca_pipe_tfidf['pca'].explained_variance_ratio_)+1),\n",
    "            np.cumsum(pca_pipe_tfidf['pca'].explained_variance_ratio_))\n",
    "\n",
    "plt.title(\"TF-IDF\")\n",
    "plt.xlabel(\"Number of Components\",fontsize=14)\n",
    "plt.ylabel(\"Cumulative Explained Variance\",fontsize=14)\n",
    "\n",
    "plt.show()"
   ]
  },
  {
   "cell_type": "markdown",
   "id": "18db128d",
   "metadata": {},
   "source": [
    "#### Calculate the cosine similarity of the TF-IDF vectors"
   ]
  },
  {
   "cell_type": "code",
   "execution_count": 144,
   "id": "62977c97",
   "metadata": {},
   "outputs": [],
   "source": [
    "## This takes way to long to run!\n",
    "\n",
    "## Make a zeros similarity matrix\n",
    "#word_tfidf_sim = np.zeros((len(df), len(df)))\n",
    "\n",
    "#for i in range(len(df)):\n",
    "#    for j in range(i+1,len(df)):\n",
    "#        i_j_sim = cos_sim(doc_term_tfidf_matrix[i,:], doc_term_tfidf_matrix[j,:])\n",
    "#        word_tfidf_sim[i,j] = i_j_sim\n",
    "#        word_tfidf_sim[j,i] = i_j_sim\n",
    "        \n",
    "#word_tfidf_sim"
   ]
  },
  {
   "cell_type": "code",
   "execution_count": 145,
   "id": "1a6fd2d6",
   "metadata": {},
   "outputs": [],
   "source": [
    "#plt.figure(figsize=(14,14))\n",
    "\n",
    "#plt.imshow(word_tfidf_sim, cmap='plasma')\n",
    "\n",
    "#plt.xlabel(\"ArXiv Document Number\", fontsize=18)\n",
    "#plt.ylabel(\"ArXiv Document Number\", fontsize=18)\n",
    "#plt.title(\"Word TF-IDF Similarity Heat Map\", fontsize=18)\n",
    "\n",
    "#cb = plt.colorbar()\n",
    "#cb.ax.get_yaxis().labelpad = 25\n",
    "#cb.ax.set_ylabel('Cosine Similarity', rotation=270, fontsize=18)\n",
    "\n",
    "#plt.show()"
   ]
  },
  {
   "cell_type": "markdown",
   "id": "c3ff86b8",
   "metadata": {},
   "source": [
    "### Compute the closeness of the articles using cosine similarity"
   ]
  },
  {
   "cell_type": "markdown",
   "id": "f6e98484",
   "metadata": {},
   "source": [
    "Computing similarity matrices for all of the elements in the database would be very exhaustive, so let's just compare cosine similarity scores for some of the articles in the database to observe differences between word frequency vectors and TF-IDF vectors. "
   ]
  },
  {
   "cell_type": "code",
   "execution_count": 147,
   "id": "540991b1",
   "metadata": {},
   "outputs": [],
   "source": [
    "## A function to get the vector norm\n",
    "def norm(u):\n",
    "    return np.sqrt(np.sum(np.power(u,2)))\n",
    "\n",
    "## A function to get the cosine similarity\n",
    "def cos_sim(u,v):\n",
    "    if norm(u)*norm(v) > 0:\n",
    "        return (u.dot(v))/(norm(u)*norm(v))\n",
    "    else:\n",
    "        return np.nan"
   ]
  },
  {
   "cell_type": "code",
   "execution_count": 148,
   "id": "22ba9989",
   "metadata": {},
   "outputs": [],
   "source": [
    "\"\"\"\n",
    "    Prints the top n most similar article titles from the dataframe\n",
    "    to the input article by calculating their cosine similarity.\n",
    "    \n",
    "    Inputs:\n",
    "    freq_matrix: a matrix of word frequencies\n",
    "    article_index: index of the article we want to compare cosine similarities to\n",
    "    n: the top \"n\" number of most similar articles to print\n",
    "\"\"\"\n",
    "def get_most_similar(freq_matrix, article_index , n):\n",
    "    \n",
    "    # Calculate the cosine similariy scores for the i-th article in the database\n",
    "    cosine_sim_list = np.zeros(len(df))\n",
    "\n",
    "    for i in range(len(df)):\n",
    "        sim_scores = cos_sim(freq_matrix[article_index,:], freq_matrix[i,:])\n",
    "        cosine_sim_list[i] = sim_scores\n",
    "        \n",
    "    ## Getting indices of n = 10 (+1) maximum values\n",
    "    ## Note the first value is the similarity value of the \n",
    "    ## article to itself\n",
    "    x = np.argsort(cosine_sim_list)[::-1][:n+1]\n",
    "\n",
    "    # Remove the first entry in x since it's just\n",
    "    # the original article itself\n",
    "    x = np.delete(x,0)\n",
    "    \n",
    "    print(\"The top\", n, \"articles most similar to the article \\n\\n\", \n",
    "            article_index, \".\", df['title'][article_index])\n",
    "    print(\"-----------------------------------------------------\\n\")\n",
    "    \n",
    "    i = 1\n",
    "    for index in x: \n",
    "        print(i, \".\", df['title'][index], \n",
    "          \", Cosine Similiarity=\", np.round(cosine_sim_list[index], 3))\n",
    "        print()\n",
    "        i = i + 1"
   ]
  },
  {
   "cell_type": "code",
   "execution_count": 149,
   "id": "c09235cc",
   "metadata": {},
   "outputs": [
    {
     "name": "stdout",
     "output_type": "stream",
     "text": [
      "USING WORD FREQUENCY VECTORS:\n",
      "\n",
      "The top 5 articles most similar to the article \n",
      "\n",
      " 0 . non linear operator valued elliptic flows with application to quantum field theory\n",
      "-----------------------------------------------------\n",
      "\n",
      "1 . landau ginzburg mirror quantum differential equations and qkz difference equations for a partial flag variety , Cosine Similiarity= 0.358\n",
      "\n",
      "2 . global dynamics in einstein gauss bonnet scalar field cosmology with matter , Cosine Similiarity= 0.333\n",
      "\n",
      "3 . galilean fermions classical and quantum aspects , Cosine Similiarity= 0.322\n",
      "\n",
      "4 . from lindblad master equations to langevin dynamics and back , Cosine Similiarity= 0.319\n",
      "\n",
      "5 . semisimple dimensional topological field theories cannot detect exotic smooth structure , Cosine Similiarity= 0.308\n",
      "\n",
      "+++++++++++++++++++++++++++++++++++++++++++++++++++++++++++++++++++++++++++++++++++++\n",
      "\n",
      " USING TF-IDF VECTORS:\n",
      "\n",
      "The top 5 articles most similar to the article \n",
      "\n",
      " 0 . non linear operator valued elliptic flows with application to quantum field theory\n",
      "-----------------------------------------------------\n",
      "\n",
      "1 . quartic hamiltonians and higher hamiltonians at next to leading order for the affine gaudin model , Cosine Similiarity= 0.228\n",
      "\n",
      "2 . differential characterization of quadratic surfaces , Cosine Similiarity= 0.169\n",
      "\n",
      "3 . conservation laws of mean field games equations , Cosine Similiarity= 0.156\n",
      "\n",
      "4 . landau ginzburg mirror quantum differential equations and qkz difference equations for a partial flag variety , Cosine Similiarity= 0.156\n",
      "\n",
      "5 . unbounded hamiltonians generated by parseval frames , Cosine Similiarity= 0.155\n",
      "\n"
     ]
    }
   ],
   "source": [
    "# The 1st article in the dataframe\n",
    "article_index = 0\n",
    "\n",
    "n = 5\n",
    "\n",
    "print(\"USING WORD FREQUENCY VECTORS:\\n\")\n",
    "get_most_similar(doc_term_freq_matrix, article_index, n)\n",
    "\n",
    "print(\"+++++++++++++++++++++++++++++++++++++++++++++++++++++++++++++++++++++++++++++++++++++\")\n",
    "\n",
    "print(\"\\n USING TF-IDF VECTORS:\\n\")\n",
    "get_most_similar(doc_term_tfidf_matrix, article_index, n)"
   ]
  },
  {
   "cell_type": "code",
   "execution_count": 155,
   "id": "731285e7",
   "metadata": {},
   "outputs": [
    {
     "name": "stdout",
     "output_type": "stream",
     "text": [
      "USING WORD FREQUENCY VECTORS:\n",
      "\n",
      "The top 5 articles most similar to the article \n",
      "\n",
      " 132 . quantum operations on conformal nets\n",
      "-----------------------------------------------------\n",
      "\n",
      "1 . quantum operations in algebraic qft , Cosine Similiarity= 0.422\n",
      "\n",
      "2 . compact hypergroups from discrete subfactors , Cosine Similiarity= 0.359\n",
      "\n",
      "3 . conformal super virasoro algebra matrix model and quantum deformed algebra , Cosine Similiarity= 0.332\n",
      "\n",
      "4 . finite quantum hypergroups , Cosine Similiarity= 0.315\n",
      "\n",
      "5 . local energy bounds and strong locality in chiral cft , Cosine Similiarity= 0.304\n",
      "\n",
      "+++++++++++++++++++++++++++++++++++++++++++++++++++++++++++++++++++++++++++++++++++++\n",
      "\n",
      " USING TF-IDF VECTORS:\n",
      "\n",
      "The top 5 articles most similar to the article \n",
      "\n",
      " 132 . quantum operations on conformal nets\n",
      "-----------------------------------------------------\n",
      "\n",
      "1 . quantum operations in algebraic qft , Cosine Similiarity= 0.336\n",
      "\n",
      "2 . compact hypergroups from discrete subfactors , Cosine Similiarity= 0.274\n",
      "\n",
      "3 . local energy bounds and strong locality in chiral cft , Cosine Similiarity= 0.251\n",
      "\n",
      "4 . towards integrable perturbation of d cft on de sitter space , Cosine Similiarity= 0.25\n",
      "\n",
      "5 . conformal super virasoro algebra matrix model and quantum deformed algebra , Cosine Similiarity= 0.218\n",
      "\n"
     ]
    }
   ],
   "source": [
    "# Another article in the dataframe\n",
    "article_index = 132\n",
    "\n",
    "n = 5\n",
    "\n",
    "print(\"USING WORD FREQUENCY VECTORS:\\n\")\n",
    "get_most_similar(doc_term_freq_matrix, article_index, n)\n",
    "\n",
    "print(\"+++++++++++++++++++++++++++++++++++++++++++++++++++++++++++++++++++++++++++++++++++++\")\n",
    "\n",
    "print(\"\\n USING TF-IDF VECTORS:\\n\")\n",
    "get_most_similar(doc_term_tfidf_matrix, article_index, n)"
   ]
  },
  {
   "cell_type": "code",
   "execution_count": 151,
   "id": "05d3d62e",
   "metadata": {},
   "outputs": [
    {
     "name": "stdout",
     "output_type": "stream",
     "text": [
      "USING WORD FREQUENCY VECTORS:\n",
      "\n",
      "The top 5 articles most similar to the article \n",
      "\n",
      " 3852 . kenmotsu manifolds\n",
      "-----------------------------------------------------\n",
      "\n",
      "1 . pcr kaehler equivalent metrics in the siegel domain , Cosine Similiarity= 0.389\n",
      "\n",
      "2 . on estimate for global newlander nirenberg theorem , Cosine Similiarity= 0.326\n",
      "\n",
      "3 . reconstruction of a lorentzian manifold from its dirichlet to neumann map , Cosine Similiarity= 0.321\n",
      "\n",
      "4 . cartan connections and path structures with large automorphisms groups , Cosine Similiarity= 0.281\n",
      "\n",
      "5 . generalized complex structure on certain principal torus bundles , Cosine Similiarity= 0.28\n",
      "\n",
      "+++++++++++++++++++++++++++++++++++++++++++++++++++++++++++++++++++++++++++++++++++++\n",
      "\n",
      " USING TF-IDF VECTORS:\n",
      "\n",
      "The top 5 articles most similar to the article \n",
      "\n",
      " 3852 . kenmotsu manifolds\n",
      "-----------------------------------------------------\n",
      "\n",
      "1 . solitonic aspects of submanifolds in kenmotsu statistical manifolds with different vector fields , Cosine Similiarity= 0.347\n",
      "\n",
      "2 . pcr kaehler equivalent metrics in the siegel domain , Cosine Similiarity= 0.148\n",
      "\n",
      "3 . contact cr and scr lightlike submanifolds of an indefinite kenmotsu statistical manifold , Cosine Similiarity= 0.137\n",
      "\n",
      "4 . on estimate for global newlander nirenberg theorem , Cosine Similiarity= 0.126\n",
      "\n",
      "5 . reconstruction of a lorentzian manifold from its dirichlet to neumann map , Cosine Similiarity= 0.122\n",
      "\n"
     ]
    }
   ],
   "source": [
    "# Another article in the dataframe\n",
    "article_index = 3852\n",
    "\n",
    "n = 5\n",
    "\n",
    "print(\"USING WORD FREQUENCY VECTORS:\\n\")\n",
    "get_most_similar(doc_term_freq_matrix, article_index, n)\n",
    "\n",
    "print(\"+++++++++++++++++++++++++++++++++++++++++++++++++++++++++++++++++++++++++++++++++++++\")\n",
    "\n",
    "print(\"\\n USING TF-IDF VECTORS:\\n\")\n",
    "get_most_similar(doc_term_tfidf_matrix, article_index, n)"
   ]
  },
  {
   "cell_type": "markdown",
   "id": "7ad5f899",
   "metadata": {},
   "source": [
    "#### As we can see the ordering and overlap between the cosine similarity results from word frequency vectors and the TF-IDF vectors varies!"
   ]
  },
  {
   "cell_type": "markdown",
   "id": "cd3b48c4",
   "metadata": {},
   "source": [
    "### Pending questions\n",
    "\n",
    "1. How do we use the information from the word-frequency matrices? Perhaps we can explore word frequencies across articles with the same `primary category.`\n",
    "2. Do we want to use $n$-grams here?"
   ]
  }
 ],
 "metadata": {
  "kernelspec": {
   "display_name": "Python 3 (ipykernel)",
   "language": "python",
   "name": "python3"
  },
  "language_info": {
   "codemirror_mode": {
    "name": "ipython",
    "version": 3
   },
   "file_extension": ".py",
   "mimetype": "text/x-python",
   "name": "python",
   "nbconvert_exporter": "python",
   "pygments_lexer": "ipython3",
   "version": "3.8.16"
  }
 },
 "nbformat": 4,
 "nbformat_minor": 5
}
